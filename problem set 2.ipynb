{
 "cells": [
  {
   "cell_type": "markdown",
   "id": "a47dfd43",
   "metadata": {},
   "source": [
    "# Assignment 2 "
   ]
  },
  {
   "cell_type": "markdown",
   "id": "431a8257",
   "metadata": {},
   "source": [
    "# problemset 2"
   ]
  },
  {
   "cell_type": "markdown",
   "id": "bc1858a1",
   "metadata": {},
   "source": [
    "# Question 1"
   ]
  },
  {
   "cell_type": "markdown",
   "id": "59ba9100",
   "metadata": {},
   "source": [
    "What value is displayed when the last expression (a) is evaluated? Explain your\n",
    "answer by indicating what happens in every executed statement."
   ]
  },
  {
   "cell_type": "code",
   "execution_count": 4,
   "id": "ccad9ff4",
   "metadata": {},
   "outputs": [
    {
     "data": {
      "text/plain": [
       "6"
      ]
     },
     "execution_count": 4,
     "metadata": {},
     "output_type": "execute_result"
    }
   ],
   "source": [
    "a = 0\n",
    "def b():\n",
    " global a    \n",
    " a = c(a)   \n",
    "def c(a):\n",
    " return a + 2\n",
    "b()\n",
    "b()\n",
    "b()\n",
    "a"
   ]
  },
  {
   "cell_type": "markdown",
   "id": "0ef9af2a",
   "metadata": {},
   "source": [
    "Explanation:\n",
    "\n",
    "b(): a's value is 0 so as c(a)=a+2 then 0+2=2 now global a's value changes to 2 b(): a's value is 2 now so as c(a)=a+2 then 2+2=4 now global a's value changes to 4 b(): a's value is 4 now so as c(a)=a+2 then 4+2=6 now global a's value gets changed to 6\n",
    "\n",
    "So as in third step a=6 (global value is being changed from 0 to 6 when b() is being executed till last step)"
   ]
  },
  {
   "cell_type": "markdown",
   "id": "c05795df",
   "metadata": {},
   "source": [
    "# Question 2"
   ]
  },
  {
   "cell_type": "markdown",
   "id": "7d9fa33d",
   "metadata": {},
   "source": [
    "Function fileLength(), given to you, takes the name of a file as input and returns the length of the file:"
   ]
  },
  {
   "cell_type": "code",
   "execution_count": 7,
   "id": "508ff716",
   "metadata": {},
   "outputs": [
    {
     "data": {
      "text/plain": [
       "'file  idterm.py  not   found'"
      ]
     },
     "execution_count": 7,
     "metadata": {},
     "output_type": "execute_result"
    }
   ],
   "source": [
    "def fileLength(filename):\n",
    "    try:\n",
    "        open_file = open(filename,'r')\n",
    "        file_data = open_file.read()\n",
    "        length_of_file = len(file_data)\n",
    "        open_file.close()\n",
    "        return length_of_file\n",
    "    except:\n",
    "        return \"file  \"+ filename + \"  not   found\"\n",
    "\n",
    "\n",
    "fileLength(\"idterm.py\")\n",
    "      "
   ]
  },
  {
   "cell_type": "markdown",
   "id": "6eea1eb6",
   "metadata": {},
   "source": [
    "# Question 3"
   ]
  },
  {
   "cell_type": "markdown",
   "id": "45a2d022",
   "metadata": {},
   "source": [
    "Now write a class named Kangaroo as a subclass of Marsupial that inherits all the\n",
    "attributes of Marsupial and also:\n",
    "\n",
    "a. extends the Marsupial __init__ constructor to take, as input, the\n",
    "coordinates x and y of the Kangaroo object,\n",
    "\n",
    "b. supports method jump that takes number values dx and dy as input and\n",
    "moves the kangaroo by dx units along the x-axis and by dy units along the yaxis, and\n",
    "\n",
    "c. overloads the __str__ operator so it behaves as shown below."
   ]
  },
  {
   "cell_type": "code",
   "execution_count": 14,
   "id": "af888bfb",
   "metadata": {},
   "outputs": [],
   "source": [
    "class Marsupial:\n",
    "    \n",
    "    def __init__(self):  \n",
    "        self.ques3 = []\n",
    "        \n",
    "    def put_in_pouch(self,word):\n",
    "        'Adds the word into the list'\n",
    "        self.word = word\n",
    "        self.ques3.append(word)\n",
    "        \n",
    "    def pouch_contents(self):\n",
    "        'Returns the list'\n",
    "        return self.ques3"
   ]
  },
  {
   "cell_type": "code",
   "execution_count": 16,
   "id": "9703ee6c",
   "metadata": {},
   "outputs": [
    {
     "data": {
      "text/plain": [
       "['doll', 'firetruck', 'kitten']"
      ]
     },
     "execution_count": 16,
     "metadata": {},
     "output_type": "execute_result"
    }
   ],
   "source": [
    "m = Marsupial()\n",
    "m.put_in_pouch('doll')\n",
    "m.put_in_pouch('firetruck')\n",
    "m.put_in_pouch('kitten')\n",
    "m.pouch_contents()"
   ]
  },
  {
   "cell_type": "code",
   "execution_count": 19,
   "id": "0541d32e",
   "metadata": {},
   "outputs": [],
   "source": [
    "class Kangaroo(Marsupial):\n",
    "    \n",
    "    def __init__(self,xcord,ycord):\n",
    "        'takes, as input, the coordinates x and y of the Kangaroo'\n",
    "        Marsupial.__init__(self)\n",
    "        self.x = xcord\n",
    "        self.y = ycord\n",
    "    \n",
    "    def jump(self,dxcord,dycord):\n",
    "        'takes number values dx and dy as input and moves the kangaroo by dx units along the x-axis and by dy units along the y-axis'\n",
    "        self.x += dxcord\n",
    "        self.y += dycord\n",
    "    \n",
    "    def __str__(self):\n",
    "        return 'I am a Kangaroo located at coordinates ({}, {}).'.format(self.x,self.y)\n"
   ]
  },
  {
   "cell_type": "code",
   "execution_count": 20,
   "id": "4b9ac80f",
   "metadata": {},
   "outputs": [
    {
     "name": "stdout",
     "output_type": "stream",
     "text": [
      "I am a Kangaroo located at coordinates (0, 0).\n"
     ]
    }
   ],
   "source": [
    "k = Kangaroo(0,0)\n",
    "print(k)"
   ]
  },
  {
   "cell_type": "code",
   "execution_count": 21,
   "id": "145113f3",
   "metadata": {},
   "outputs": [
    {
     "data": {
      "text/plain": [
       "['doll', 'firetruck', 'kitten']"
      ]
     },
     "execution_count": 21,
     "metadata": {},
     "output_type": "execute_result"
    }
   ],
   "source": [
    "k.put_in_pouch('doll')\n",
    "k.put_in_pouch('firetruck')\n",
    "k.put_in_pouch('kitten')\n",
    "k.pouch_contents()"
   ]
  },
  {
   "cell_type": "code",
   "execution_count": 22,
   "id": "34a46d4b",
   "metadata": {},
   "outputs": [
    {
     "name": "stdout",
     "output_type": "stream",
     "text": [
      "I am a Kangaroo located at coordinates (3, 0).\n"
     ]
    }
   ],
   "source": [
    "k.jump(1,0)\n",
    "k.jump(1,0)\n",
    "k.jump(1,0)\n",
    "print(k)"
   ]
  },
  {
   "cell_type": "markdown",
   "id": "76b1921b",
   "metadata": {},
   "source": [
    "# Question 4"
   ]
  },
  {
   "cell_type": "markdown",
   "id": "a0ba5395",
   "metadata": {},
   "source": [
    "Write function collatz() that takes a positive integer x as input and prints the Collatz sequence starting at x. A Collatz sequence is obtained by repeatedly applying this rule to the previous number x in the sequence:\n",
    "Your function should stop when the sequence gets to number 1. Your\n",
    "implementation must be recursive, without any loops."
   ]
  },
  {
   "cell_type": "code",
   "execution_count": 23,
   "id": "a4ab780d",
   "metadata": {},
   "outputs": [],
   "source": [
    "def collatz(number):\n",
    "    print(number)\n",
    "    if number==1:\n",
    "        pass\n",
    "    else:\n",
    "        if number%2 == 0: \n",
    "            number = int(number/2)\n",
    "            collatz(number)\n",
    "        else: \n",
    "            number = int(3*number + 1)\n",
    "            collatz(number)"
   ]
  },
  {
   "cell_type": "code",
   "execution_count": 25,
   "id": "00681149",
   "metadata": {},
   "outputs": [
    {
     "name": "stdout",
     "output_type": "stream",
     "text": [
      "1\n"
     ]
    }
   ],
   "source": [
    "collatz(1)"
   ]
  },
  {
   "cell_type": "code",
   "execution_count": 27,
   "id": "a59cbd2e",
   "metadata": {},
   "outputs": [
    {
     "name": "stdout",
     "output_type": "stream",
     "text": [
      "10\n",
      "5\n",
      "16\n",
      "8\n",
      "4\n",
      "2\n",
      "1\n"
     ]
    }
   ],
   "source": [
    "collatz(10)"
   ]
  },
  {
   "cell_type": "markdown",
   "id": "5c32afc8",
   "metadata": {},
   "source": [
    "# Question 5"
   ]
  },
  {
   "cell_type": "markdown",
   "id": "98e189af",
   "metadata": {},
   "source": [
    "Write a recursive method binary() that takes a non-negative\n",
    "integer n and prints the binary representation of integer n."
   ]
  },
  {
   "cell_type": "code",
   "execution_count": 31,
   "id": "d3ddcd20",
   "metadata": {},
   "outputs": [],
   "source": [
    "def binary(number):\n",
    "    print(number%2,end = '')\n",
    "    \n",
    "    if number == 1 or number==0:\n",
    "        pass\n",
    "    else:\n",
    "        num = int(number / 2)\n",
    "        binary(num)"
   ]
  },
  {
   "cell_type": "code",
   "execution_count": 32,
   "id": "65a638b8",
   "metadata": {},
   "outputs": [
    {
     "name": "stdout",
     "output_type": "stream",
     "text": [
      "0"
     ]
    }
   ],
   "source": [
    "binary(0)"
   ]
  },
  {
   "cell_type": "code",
   "execution_count": 33,
   "id": "53de1d08",
   "metadata": {},
   "outputs": [
    {
     "name": "stdout",
     "output_type": "stream",
     "text": [
      "1"
     ]
    }
   ],
   "source": [
    "binary(1)"
   ]
  },
  {
   "cell_type": "code",
   "execution_count": 34,
   "id": "d3468b6b",
   "metadata": {},
   "outputs": [
    {
     "name": "stdout",
     "output_type": "stream",
     "text": [
      "11"
     ]
    }
   ],
   "source": [
    "binary(3)"
   ]
  },
  {
   "cell_type": "code",
   "execution_count": 35,
   "id": "5bf2f3c8",
   "metadata": {},
   "outputs": [
    {
     "name": "stdout",
     "output_type": "stream",
     "text": [
      "1001"
     ]
    }
   ],
   "source": [
    "binary(9)"
   ]
  },
  {
   "cell_type": "markdown",
   "id": "ba7a13ed",
   "metadata": {},
   "source": [
    "# Question 6"
   ]
  },
  {
   "cell_type": "markdown",
   "id": "75100c2b",
   "metadata": {},
   "source": [
    "Implement a class named HeadingParser that can be used to parse an HTML\n",
    "document, and retrieve and print all the headings in the document. You should\n",
    "implement your class as a subclass of HTMLParser, defined in Standard Library\n",
    "module html.parser. When fed a string containing HTML code, your class should\n",
    "print the headings, one per line and in the order in which they appear in the\n",
    "document. Each heading should be indented as follows: an h1 heading should have indentation 0, and h2 heading should have indentation 1, etc. Test your\n",
    "implementation using w3c.html."
   ]
  },
  {
   "cell_type": "code",
   "execution_count": 37,
   "id": "cfe76b57",
   "metadata": {},
   "outputs": [],
   "source": [
    "from html.parser import HTMLParser\n",
    "\n",
    "class HeadingParser(HTMLParser):\n",
    "    Headers = [\"h1\", \"h2\"]\n",
    "    current = -1\n",
    "\n",
    "    def handle_starttag(self, tag, attrs):      \n",
    "        if tag in HeadingParser.Headers:         \n",
    "            HeadingParser.current = HeadingParser.Headers.index(tag)\n",
    "    \n",
    "    def handle_endtag(self, tag):                \n",
    "        if tag == HeadingParser.Headers[HeadingParser.current]:          \n",
    "            HeadingParser.current = -1\n",
    "            \n",
    "    def handle_data(self, data):\n",
    "        if HeadingParser.current >= 0:\n",
    "            print(\" \" * HeadingParser.current + data)"
   ]
  },
  {
   "cell_type": "code",
   "execution_count": 47,
   "id": "d8fbe363",
   "metadata": {},
   "outputs": [
    {
     "name": "stdout",
     "output_type": "stream",
     "text": [
      "W3C Mission\n",
      " Principles\n"
     ]
    }
   ],
   "source": [
    "infile = open(\"w3c.html\",\"r\")\n",
    "content = infile.read()\n",
    "infile.close()\n",
    "hp = HeadingParser()\n",
    "hp.feed(content)"
   ]
  },
  {
   "cell_type": "markdown",
   "id": "90a97b62",
   "metadata": {},
   "source": [
    "# Question 7"
   ]
  },
  {
   "cell_type": "markdown",
   "id": "13e3d4e0",
   "metadata": {},
   "source": [
    "Implement recursive function webdir() that takes as input: a URL (as a string) and\n",
    "non-negative integers depth and indent. Your function should visit every web\n",
    "page reachable from the starting URL web page in depth clicks or less, and print\n",
    "each web page's URL. As shown below, indentation, specified by indent, should\n",
    "be used to indicate the depth of a URL."
   ]
  },
  {
   "cell_type": "code",
   "execution_count": 48,
   "id": "981cae6c",
   "metadata": {},
   "outputs": [
    {
     "name": "stdout",
     "output_type": "stream",
     "text": [
      " http://reed.cs.depaul.edu/lperkovic/test1.html\n",
      " http://reed.cs.depaul.edu/lperkovic/test2.html\n",
      "  http://reed.cs.depaul.edu/lperkovic/test2.html\n"
     ]
    }
   ],
   "source": [
    "from urllib.request import urlopen\n",
    "from urllib.parse import urljoin\n",
    "from html.parser import HTMLParser\n",
    "\n",
    "class Collector(HTMLParser):\n",
    "\n",
    "  def __init__(self, url):\n",
    "      #initializes parser, the url, and a list\n",
    "      HTMLParser.__init__(self)\n",
    "      self.url = url\n",
    "      self.links = []\n",
    "\n",
    "\n",
    "  def handle_starttag(self, tag, attrs):\n",
    "      if tag == 'a':\n",
    "          for attr in attrs:          \n",
    "              if attr[0] == 'href': \n",
    "                  absolute = urljoin(self.url, attr[1])\n",
    "                  if absolute[:4] == 'http':\n",
    "                      self.links.append(absolute)\n",
    "\n",
    "  def getLinks(self):\n",
    "    return self.links\n",
    "\n",
    "\n",
    "allLinks = []\n",
    "    \n",
    "def webdir(url,depth,indent):\n",
    "        global allLinks   \n",
    "        print(indent*\" \" + url)\n",
    "        if depth == 0:\n",
    "            return \n",
    "        for i in allLinks: \n",
    "            webdir(i, depth-1, indent+1)    \n",
    "\n",
    "            \n",
    "url = ' http://reed.cs.depaul.edu/lperkovic/test1.html'\n",
    "resource = urlopen(url)\n",
    "content = resource.read().decode()\n",
    "collector = Collector(url)\n",
    "collector.feed(content)\n",
    "allLinks = collector.getLinks()\n",
    "webdir(url,2,0) "
   ]
  },
  {
   "cell_type": "markdown",
   "id": "545b6c12",
   "metadata": {},
   "source": [
    "# Question 8"
   ]
  },
  {
   "cell_type": "markdown",
   "id": "81885aa5",
   "metadata": {},
   "source": [
    "Write SQL queries on the below database table that return:\n",
    "\n",
    "a) All the temperature data.\n",
    "\n",
    "b) All the cities, but without repetition.\n",
    "\n",
    "c) All the records for India.\n",
    "\n",
    "d) All the Fall records.\n",
    "\n",
    "e) The city, country, and season for which the average rainfall is between 200 and 400 millimeters.\n",
    "\n",
    "f) The city and country for which the average Fall temperature is above 20\n",
    "degrees, in increasing temperature order.\n",
    "\n",
    "g) The total annual rainfall for Cairo.\n",
    "\n",
    "h) The total rainfall for each season.\n"
   ]
  },
  {
   "cell_type": "code",
   "execution_count": 50,
   "id": "b6cbdf07",
   "metadata": {},
   "outputs": [],
   "source": [
    "cur.execute(\"CREATE TABLE CITY_DATA (City text, Country text, Season text, Temperature float, Rainfall float)\")\n",
    "data=[('Mumbai', 'India','Winter',24.8, 5.9),('Mumbai','India','Spring',28.4,16.2),('Mumbai','India','Summer',27.9,1549.4),\n",
    "     ('Mumbai','India','Fall',27.6,346.0),('London','United Kingdom','Winter',4.2,207.7),\n",
    "     ('London','United Kingdom','Spring',8.3,169.6),('London','United Kingdom','Summer',15.7,157.0),\n",
    "     ('London','United Kingdom','Fall',10.4,218.5),('Cairo','Egypt','Winter',13.6,16.5),('Cairo','Egypt','Spring',20.7,6.5),\n",
    "     ('Cairo','Egypt','Summer',27.7,0.1),('Cairo','Egypt','Fall',22.2,4.5)]\n",
    "for cities in data:\n",
    "    cur.execute(\"INSERT INTO CITY_DATA VALUES (?,?,?,?,?)\",cities)\n",
    "    con.commit()"
   ]
  },
  {
   "cell_type": "code",
   "execution_count": 51,
   "id": "f6437230",
   "metadata": {},
   "outputs": [
    {
     "data": {
      "text/plain": [
       "[(24.8,),\n",
       " (28.4,),\n",
       " (27.9,),\n",
       " (27.6,),\n",
       " (4.2,),\n",
       " (8.3,),\n",
       " (15.7,),\n",
       " (10.4,),\n",
       " (13.6,),\n",
       " (20.7,),\n",
       " (27.7,),\n",
       " (22.2,)]"
      ]
     },
     "execution_count": 51,
     "metadata": {},
     "output_type": "execute_result"
    }
   ],
   "source": [
    "# a\n",
    "cur.execute('SELECT Temperature FROM CITY_DATA')\n",
    "cur.fetchall()"
   ]
  },
  {
   "cell_type": "code",
   "execution_count": 53,
   "id": "85bcf396",
   "metadata": {},
   "outputs": [
    {
     "data": {
      "text/plain": [
       "[('Mumbai',), ('London',), ('Cairo',)]"
      ]
     },
     "execution_count": 53,
     "metadata": {},
     "output_type": "execute_result"
    }
   ],
   "source": [
    "# b\n",
    "cur.execute('SELECT DISTINCT City FROM CITY_DATA')\n",
    "cur.fetchall()"
   ]
  },
  {
   "cell_type": "code",
   "execution_count": 55,
   "id": "ebc73d22",
   "metadata": {},
   "outputs": [
    {
     "data": {
      "text/plain": [
       "[('Mumbai', 'India', 'Winter', 24.8, 5.9),\n",
       " ('Mumbai', 'India', 'Spring', 28.4, 16.2),\n",
       " ('Mumbai', 'India', 'Summer', 27.9, 1549.4),\n",
       " ('Mumbai', 'India', 'Fall', 27.6, 346.0)]"
      ]
     },
     "execution_count": 55,
     "metadata": {},
     "output_type": "execute_result"
    }
   ],
   "source": [
    "# c\n",
    "cur.execute('SELECT * FROM CITY_DATA WHERE Country LIKE \"India%\"')\n",
    "cur.fetchall()"
   ]
  },
  {
   "cell_type": "code",
   "execution_count": 56,
   "id": "94ba3d3a",
   "metadata": {},
   "outputs": [
    {
     "data": {
      "text/plain": [
       "[('Mumbai', 'India', 'Fall', 27.6, 346.0),\n",
       " ('London', 'United Kingdom', 'Fall', 10.4, 218.5),\n",
       " ('Cairo', 'Egypt', 'Fall', 22.2, 4.5)]"
      ]
     },
     "execution_count": 56,
     "metadata": {},
     "output_type": "execute_result"
    }
   ],
   "source": [
    "# d\n",
    "cur.execute('SELECT * FROM CITY_DATA WHERE Season LIKE \"Fall%\"')\n",
    "cur.fetchall()"
   ]
  },
  {
   "cell_type": "code",
   "execution_count": 57,
   "id": "b9d5ecfa",
   "metadata": {},
   "outputs": [
    {
     "data": {
      "text/plain": [
       "[('Mumbai', 'India', 'Fall'),\n",
       " ('London', 'United Kingdom', 'Winter'),\n",
       " ('London', 'United Kingdom', 'Fall')]"
      ]
     },
     "execution_count": 57,
     "metadata": {},
     "output_type": "execute_result"
    }
   ],
   "source": [
    "# e\n",
    "cur.execute('SELECT City, Country, Season FROM CITY_DATA WHERE Rainfall BETWEEN 200 AND 400')\n",
    "cur.fetchall()"
   ]
  },
  {
   "cell_type": "code",
   "execution_count": 58,
   "id": "bed37923",
   "metadata": {},
   "outputs": [
    {
     "data": {
      "text/plain": [
       "[('Mumbai', 'India', 28.4),\n",
       " ('Mumbai', 'India', 27.9),\n",
       " ('Cairo', 'Egypt', 27.7),\n",
       " ('Mumbai', 'India', 27.6),\n",
       " ('Mumbai', 'India', 24.8),\n",
       " ('Cairo', 'Egypt', 22.2),\n",
       " ('Cairo', 'Egypt', 20.7)]"
      ]
     },
     "execution_count": 58,
     "metadata": {},
     "output_type": "execute_result"
    }
   ],
   "source": [
    "#f\n",
    "cur.execute('SELECT City, Country,Temperature FROM CITY_DATA WHERE Temperature > 20 ORDER BY Temperature DESC')\n",
    "cur.fetchall()"
   ]
  },
  {
   "cell_type": "code",
   "execution_count": 59,
   "id": "ecc009cc",
   "metadata": {},
   "outputs": [
    {
     "data": {
      "text/plain": [
       "[(27.6, 'Cairo')]"
      ]
     },
     "execution_count": 59,
     "metadata": {},
     "output_type": "execute_result"
    }
   ],
   "source": [
    "# g\n",
    "cur.execute('SELECT SUM(Rainfall) AS RF, City FROM CITY_DATA WHERE City LIKE \"Cairo\" GROUP BY City')\n",
    "cur.fetchall()"
   ]
  },
  {
   "cell_type": "code",
   "execution_count": 60,
   "id": "46ad855b",
   "metadata": {},
   "outputs": [
    {
     "data": {
      "text/plain": [
       "[(569.0, 'Fall'),\n",
       " (192.29999999999998, 'Spring'),\n",
       " (1706.5, 'Summer'),\n",
       " (230.1, 'Winter')]"
      ]
     },
     "execution_count": 60,
     "metadata": {},
     "output_type": "execute_result"
    }
   ],
   "source": [
    "# h\n",
    "cur.execute('SELECT SUM(Rainfall),Season FROM CITY_DATA GROUP BY Season')\n",
    "cur.fetchall()"
   ]
  },
  {
   "cell_type": "markdown",
   "id": "698aae3d",
   "metadata": {},
   "source": [
    "# Question 9"
   ]
  },
  {
   "cell_type": "markdown",
   "id": "b840d93a",
   "metadata": {},
   "source": [
    ". Suppose list words is defined as follows:\n",
    "words = ['The', 'quick', 'brown', 'fox', 'jumps', 'over',\n",
    "'the', 'lazy', 'dog']\n",
    "\n",
    "Write list comprehension expressions that use list words and generate the following\n",
    "lists:\n",
    "\n",
    "a) ['THE', 'QUICK', 'BROWN', 'FOX', 'JUMPS', 'OVER', 'THE',\n",
    "'LAZY', 'DOG']\n",
    "\n",
    "b) ['the', 'quick', 'brown', 'fox', 'jumps', 'over', 'the',\n",
    "'lazy', 'dog']\n",
    "\n",
    "c) [3, 5, 5, 3, 5, 4, 3, 4, 3] (the list of lengths of words in list\n",
    "words).\n",
    "\n",
    "d) [['THE', 'the', 3], ['QUICK', 'quick', 5], ['BROWN',\n",
    "'brown', 5], ['FOX', 'fox', 3], ['JUMPS', 'jumps', 5],\n",
    "['OVER', 'over', 4], ['THE', 'the', 3], ['LAZY', 'lazy',\n",
    "4], ['DOG', 'dog', 3]] (the list containing a list for every word of list\n",
    "words, where each list contains the word in uppercase and lowercase and the\n",
    "length of the word.)\n",
    "\n",
    "e) ['The', 'quick', 'brown', 'fox', 'jumps', 'over', 'the',\n",
    "'lazy', 'dog'] (the list of words in list words containing 4 or more\n",
    "characters.)"
   ]
  },
  {
   "cell_type": "code",
   "execution_count": 61,
   "id": "a6f3c000",
   "metadata": {},
   "outputs": [],
   "source": [
    "words = ['The', 'quick', 'brown', 'fox', 'jumps', 'over','the', 'lazy', 'dog']"
   ]
  },
  {
   "cell_type": "code",
   "execution_count": 62,
   "id": "938492a4",
   "metadata": {},
   "outputs": [
    {
     "name": "stdout",
     "output_type": "stream",
     "text": [
      "['THE', 'QUICK', 'BROWN', 'FOX', 'JUMPS', 'OVER', 'THE', 'LAZY', 'DOG']\n"
     ]
    }
   ],
   "source": [
    "# a\n",
    "\n",
    "a = [elements.upper() for elements in words]\n",
    "print (a)"
   ]
  },
  {
   "cell_type": "code",
   "execution_count": 64,
   "id": "be754fb0",
   "metadata": {},
   "outputs": [
    {
     "name": "stdout",
     "output_type": "stream",
     "text": [
      "['the', 'quick', 'brown', 'fox', 'jumps', 'over', 'the', 'lazy', 'dog']\n"
     ]
    }
   ],
   "source": [
    "# b\n",
    "\n",
    "b = [elements.lower() for elements in words]\n",
    "print(b)"
   ]
  },
  {
   "cell_type": "code",
   "execution_count": 66,
   "id": "3f36fc33",
   "metadata": {},
   "outputs": [
    {
     "name": "stdout",
     "output_type": "stream",
     "text": [
      "[3, 5, 5, 3, 5, 4, 3, 4, 3]\n"
     ]
    }
   ],
   "source": [
    "# c\n",
    "\n",
    "c = [len(elements) for elements in words]\n",
    "print(c)"
   ]
  },
  {
   "cell_type": "code",
   "execution_count": 67,
   "id": "a457f44f",
   "metadata": {},
   "outputs": [
    {
     "name": "stdout",
     "output_type": "stream",
     "text": [
      "[['THE', 'the', 3], ['QUICK', 'quick', 5], ['BROWN', 'brown', 5], ['FOX', 'fox', 3], ['JUMPS', 'jumps', 5], ['OVER', 'over', 4], ['THE', 'the', 3], ['LAZY', 'lazy', 4], ['DOG', 'dog', 3]]\n"
     ]
    }
   ],
   "source": [
    "# d\n",
    "\n",
    "d = [[elements.upper(),elements.lower(),len(elements)] for elements in words]\n",
    "print(d)"
   ]
  },
  {
   "cell_type": "code",
   "execution_count": 69,
   "id": "86957ca0",
   "metadata": {},
   "outputs": [
    {
     "name": "stdout",
     "output_type": "stream",
     "text": [
      "['quick', 'brown', 'jumps', 'over', 'lazy']\n"
     ]
    }
   ],
   "source": [
    "# e\n",
    "\n",
    "e = [elements for elements in words if len(elements)>=4]\n",
    "print(e)"
   ]
  }
 ],
 "metadata": {
  "kernelspec": {
   "display_name": "Python 3 (ipykernel)",
   "language": "python",
   "name": "python3"
  },
  "language_info": {
   "codemirror_mode": {
    "name": "ipython",
    "version": 3
   },
   "file_extension": ".py",
   "mimetype": "text/x-python",
   "name": "python",
   "nbconvert_exporter": "python",
   "pygments_lexer": "ipython3",
   "version": "3.9.13"
  }
 },
 "nbformat": 4,
 "nbformat_minor": 5
}
